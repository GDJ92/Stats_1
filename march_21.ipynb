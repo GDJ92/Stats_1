{
  "nbformat": 4,
  "nbformat_minor": 0,
  "metadata": {
    "colab": {
      "provenance": []
    },
    "kernelspec": {
      "name": "python3",
      "display_name": "Python 3"
    },
    "language_info": {
      "name": "python"
    }
  },
  "cells": [
    {
      "cell_type": "markdown",
      "source": [
        "## Q1"
      ],
      "metadata": {
        "id": "4ubONHqIJx6y"
      }
    },
    {
      "cell_type": "code",
      "source": [
        "# An eccmmerce research company claims that 65% or more graduate students have bought merchandise online. A consumer group is suspicious of the claim and thinks that the proportion is lower than 65%.\n",
        "# a random sample o85 graduate students shows that only 22 students have even done so. Is there enough evidence to show that the true proportion is lower than 65%.\n",
        "# conduct the test at 5%  type I error and use the p-value and rejection region approaches."
      ],
      "metadata": {
        "id": "wYFbqG2QFMFi"
      },
      "execution_count": null,
      "outputs": []
    },
    {
      "cell_type": "code",
      "source": [
        "import numpy as np\n",
        "from scipy import stats\n",
        "\n",
        "# Sample proportion\n",
        "p_hat = 22 / 85\n",
        "\n",
        "# Claimed proportion\n",
        "p_claimed = 0.65\n",
        "\n",
        "# Sample size\n",
        "n = 85\n",
        "\n",
        "# Calculate the test statistic (z-score)\n",
        "z = (p_hat - p_claimed) / np.sqrt((p_claimed * (1 - p_claimed)) / n)\n",
        "\n",
        "# Calculate the p-value\n",
        "p_value = stats.norm.cdf(z)\n",
        "\n",
        "# Significance level\n",
        "alpha = 0.05\n",
        "\n",
        "print(\"Test statistic (z-score):\", z)\n",
        "print(\"P-value:\", p_value)\n",
        "\n",
        "# Decision based on the p-value approach\n",
        "if p_value < alpha:\n",
        "    print(\"Reject the null hypothesis. There is enough evidence to conclude that the true proportion is lower than 65%.\")\n",
        "else:\n",
        "    print(\"Fail to reject the null hypothesis. There is not enough evidence to conclude that the true proportion is lower than 65%.\")\n",
        "\n",
        "# Decision based on the rejection region approach\n",
        "if z < stats.norm.ppf(alpha):\n",
        "    print(f'z= {z}  and  {stats.norm.ppf(alpha)} Reject the null hypothesis. There is enough evidence to conclude that the true proportion is lower than 65%.')\n",
        "else:\n",
        "    print(\"Fail to reject the null hypothesis. There is not enough evidence to conclude that the true proportion is lower than 65%.\")"
      ],
      "metadata": {
        "colab": {
          "base_uri": "https://localhost:8080/"
        },
        "id": "bHSPkXYyFrG-",
        "outputId": "7ce27d4c-df1f-4b00-a438-16dde9d36a67"
      },
      "execution_count": null,
      "outputs": [
        {
          "output_type": "stream",
          "name": "stdout",
          "text": [
            "Test statistic (z-score): -7.561213242685162\n",
            "P-value: 1.9966347722095972e-14\n",
            "Reject the null hypothesis. There is enough evidence to conclude that the true proportion is lower than 65%.\n",
            "z= -7.561213242685162  and  -1.6448536269514729 Reject the null hypothesis. There is enough evidence to conclude that the true proportion is lower than 65%.\n"
          ]
        }
      ]
    },
    {
      "cell_type": "markdown",
      "source": [
        "## Q2"
      ],
      "metadata": {
        "id": "k5hV4W2fJ2tJ"
      }
    },
    {
      "cell_type": "code",
      "source": [
        "# A biologist is studying a particular species of flower known for its rare blooming cycle. she finds that there is a 10% chance of observing a bloom on any given day during the peak season.\n",
        "# What is the probability that she observes the first bloom on the fifth day?"
      ],
      "metadata": {
        "id": "PvivwzH5FM1k"
      },
      "execution_count": null,
      "outputs": []
    },
    {
      "cell_type": "code",
      "source": [
        "from scipy.stats import nbinom\n",
        "\n",
        "# Probability of observing a bloom on any given day\n",
        "p_bloom = 0.1\n",
        "\n",
        "# Number of successes required (k)\n",
        "k_successes = 1  # We want the first bloom\n",
        "\n",
        "# Number of trials until the first success (bloom)\n",
        "n_trials_until_first_bloom = 5\n",
        "\n",
        "# Calculate the number of failures before the first success\n",
        "failures_before_first_bloom = n_trials_until_first_bloom - k_successes\n",
        "\n",
        "# Calculate the probability of observing the first bloom on the fifth day\n",
        "p_first_bloom_on_fifth_day = nbinom.pmf(failures_before_first_bloom, k_successes, p_bloom)\n",
        "\n",
        "print(\"Probability of observing the first bloom on the fifth day:\", p_first_bloom_on_fifth_day)"
      ],
      "metadata": {
        "colab": {
          "base_uri": "https://localhost:8080/"
        },
        "id": "BjbaqXqeH-a7",
        "outputId": "c2dd3227-a099-416a-a693-43617459d89c"
      },
      "execution_count": null,
      "outputs": [
        {
          "output_type": "stream",
          "name": "stdout",
          "text": [
            "Probability of observing the first bloom on the fifth day: 0.06560999999999999\n"
          ]
        }
      ]
    },
    {
      "cell_type": "code",
      "source": [
        "from scipy.stats import geom\n",
        "p_geom = 0.1  #prob success\n",
        "k_geom = 5 #trials\n",
        "geometric_prob = geom.pmf(k_geom, p_geom)\n",
        "print(geometric_prob)"
      ],
      "metadata": {
        "colab": {
          "base_uri": "https://localhost:8080/"
        },
        "id": "9kHP9M6bZX7m",
        "outputId": "8abf88d7-551a-4b4b-a6c0-0aed1335d0ac"
      },
      "execution_count": 6,
      "outputs": [
        {
          "output_type": "stream",
          "name": "stdout",
          "text": [
            "0.06561\n"
          ]
        }
      ]
    },
    {
      "cell_type": "markdown",
      "source": [
        "## Q4"
      ],
      "metadata": {
        "id": "3BtR5MmuJ6Sb"
      }
    },
    {
      "cell_type": "code",
      "source": [
        "# an oil company conducts a geological study that indicates that an explanatory oil well should havea 20% chance of striking oil. what is the probability that the third strike comes on the seventh well drilled.\n"
      ],
      "metadata": {
        "id": "8EhuHlFI5Toj"
      },
      "execution_count": null,
      "outputs": []
    },
    {
      "cell_type": "code",
      "source": [
        "from scipy.stats import nbinom\n",
        "\n",
        "# Probability of striking oil on each well\n",
        "p_success = 0.2\n",
        "\n",
        "# Number of successes required (k)\n",
        "k_successes = 3  # We want the third strike\n",
        "\n",
        "# Number of trials (wells drilled) until the third success\n",
        "n_trials_until_3rd_strike = 7\n",
        "\n",
        "# Calculate the number of failures before the third success\n",
        "failures_before_3rd_strike = n_trials_until_3rd_strike - k_successes\n",
        "\n",
        "# Calculate the probability of the third strike occurring on the seventh well drilled\n",
        "p_third_strike_on_seventh_well = nbinom.pmf(failures_before_3rd_strike, k_successes, p_success)\n",
        "\n",
        "print(\"Probability of the third strike occurring on the seventh well drilled:\", p_third_strike_on_seventh_well)"
      ],
      "metadata": {
        "colab": {
          "base_uri": "https://localhost:8080/"
        },
        "id": "Cqjo4gLz5UT9",
        "outputId": "c8f2de89-81e5-4ee3-f2c4-65434e3fc51e"
      },
      "execution_count": null,
      "outputs": [
        {
          "output_type": "stream",
          "name": "stdout",
          "text": [
            "Probability of the third strike occurring on the seventh well drilled: 0.04915200000000004\n"
          ]
        }
      ]
    },
    {
      "cell_type": "markdown",
      "source": [
        "## Q6"
      ],
      "metadata": {
        "id": "nYpMvhU3J9Aj"
      }
    },
    {
      "cell_type": "code",
      "execution_count": null,
      "metadata": {
        "id": "Vc6RvUriyr6I"
      },
      "outputs": [],
      "source": [
        "#in 1980, of 700 men 20-34 years old, 150 were found to be overweight. Whereas, in 1990, of 750 men, 20-34 years old, 170 were found to be overweight.\n",
        "# at the 5% significance level, do the data provide sufficient evidence to conclude that, for men 20-34 years old,a a higher porcentage were overweight in 1990 than 10 years earlier. Conduct the hypothesis test"
      ]
    },
    {
      "cell_type": "code",
      "source": [
        "import numpy as np\n",
        "from scipy import stats\n",
        "\n",
        "# Define the sample sizes and number of overweight men for 1980 and 1990\n",
        "n1 = 700\n",
        "x1 = 150\n",
        "\n",
        "n2 = 750\n",
        "x2 = 170\n",
        "\n",
        "# Calculate the sample proportions\n",
        "p1 = x1 / n1\n",
        "p2 = x2 / n2\n",
        "\n",
        "# Calculate the combined sample proportion\n",
        "p_combined = (x1 + x2) / (n1 + n2)\n",
        "\n",
        "# Calculate the standard error\n",
        "SE = np.sqrt(p_combined * (1 - p_combined) * (1/n1 + 1/n2))\n",
        "\n",
        "# Calculate the test statistic\n",
        "z = (p1 - p2) / SE\n",
        "\n",
        "# Calculate the p-value\n",
        "p_value = 2 * (1 - stats.norm.cdf(abs(z)))\n",
        "\n",
        "# Set the significance level\n",
        "alpha = 0.05\n",
        "\n",
        "print(\"Test statistic:\", z)\n",
        "print(\"P-value:\", p_value)\n",
        "\n",
        "# Check if the p-value is less than the significance level\n",
        "if p_value < alpha:\n",
        "    print(\"At the 5% significance level, there is sufficient evidence to reject the null hypothesis.\")\n",
        "else:\n",
        "    print(\"At the 5% significance level, there is not sufficient evidence to reject the null hypothesis.\")"
      ],
      "metadata": {
        "colab": {
          "base_uri": "https://localhost:8080/"
        },
        "id": "E_YqUubu0_Ya",
        "outputId": "9a88af43-c999-4649-8bf0-b3f2256c2217"
      },
      "execution_count": null,
      "outputs": [
        {
          "output_type": "stream",
          "name": "stdout",
          "text": [
            "Test statistic: -0.5680721458724587\n",
            "P-value: 0.569985980385308\n",
            "At the 5% significance level, there is not sufficient evidence to reject the null hypothesis.\n"
          ]
        }
      ]
    },
    {
      "cell_type": "code",
      "source": [],
      "metadata": {
        "id": "f5WH11mC5Swp"
      },
      "execution_count": null,
      "outputs": []
    },
    {
      "cell_type": "markdown",
      "source": [
        "A point estimate is a single value (or point) that serves as an estimate or guess for a population parameter based on sample data. It is used to approximate or infer the true value of a population parameter when it is impractical or impossible to measure the entire population.\n",
        "\n",
        "For example, if you conduct a survey of 500 people to estimate the average age of all adults in a city, the sample mean age of the 500 surveyed individuals would be a point estimate for the population mean age.\n",
        "\n",
        "On the other hand, the parameter of interest is the specific population characteristic or value that we want to estimate or make inferences about based on the sample data. It's the true, fixed value that we seek to understand or describe about the entire population.\n",
        "\n",
        "Continuing with the previous example, the parameter of interest would be the actual average age of all adults in the city, not just the estimate based on the sample. It's what we aim to learn about through our study or survey.\n",
        "\n",
        "In summary, the point estimate is the estimated value derived from the sample data, while the parameter of interest is the true, unknown value about the population that we're trying to estimate or understand."
      ],
      "metadata": {
        "id": "cXNt8SgvTaCU"
      }
    },
    {
      "cell_type": "code",
      "source": [
        "# What is the probability that a person succeeds on their 5th attempt if the probability of success on any given attempt is 0.2, assuming each attempt is independent?\n",
        "from scipy.stats import nbinom\n",
        "\n",
        "# Probability of success on each attempt\n",
        "p_success = 0.2\n",
        "\n",
        "# Number of successes required (k)\n",
        "k_successes = 5\n",
        "\n",
        "# Calculate the number of failures before the 5th success\n",
        "failures_before_5th_success = k_successes - 1  # Because successes = failures + 1\n",
        "\n",
        "# Calculate the probability of succeeding on the 5th attempt\n",
        "p_5th_attempt_success = nbinom.pmf(failures_before_5th_success, k_successes, p_success)\n",
        "\n",
        "print(\"Probability of success on the 5th attempt:\", p_5th_attempt_success)"
      ],
      "metadata": {
        "id": "r8pn2IzATauH",
        "colab": {
          "base_uri": "https://localhost:8080/"
        },
        "outputId": "47bd2505-a116-4ed1-f0af-35ef571160ee"
      },
      "execution_count": 2,
      "outputs": [
        {
          "output_type": "stream",
          "name": "stdout",
          "text": [
            "Probability of success on the 5th attempt: 0.009175040000000004\n"
          ]
        }
      ]
    },
    {
      "cell_type": "code",
      "source": [
        "# A call center receives an average of 12 calls per hour. What is the probability that they will receive exactly 15 calls in the next hour\n",
        "from scipy.stats import poisson\n",
        "\n",
        "# Average rate of calls per hour\n",
        "average_calls_per_hour = 12\n",
        "\n",
        "# Number of calls we want to calculate the probability for\n",
        "num_calls = 15\n",
        "\n",
        "# Calculate the probability of receiving exactly 15 calls in the next hour using the Poisson distribution\n",
        "p_15_calls = poisson.pmf(num_calls, average_calls_per_hour)\n",
        "\n",
        "print(\"Probability of receiving exactly 15 calls in the next hour:\", p_15_calls)"
      ],
      "metadata": {
        "colab": {
          "base_uri": "https://localhost:8080/"
        },
        "id": "AxWHDdoGX8dS",
        "outputId": "20973b5f-94fc-4257-c27c-9535e9dd8a23"
      },
      "execution_count": 3,
      "outputs": [
        {
          "output_type": "stream",
          "name": "stdout",
          "text": [
            "Probability of receiving exactly 15 calls in the next hour: 0.07239112014663847\n"
          ]
        }
      ]
    },
    {
      "cell_type": "code",
      "source": [
        "# If a basketball player makes a basket with a probability of 0.3, what is the probability that the player will make their third basket on their 10th attempt?\n",
        "from scipy.stats import nbinom\n",
        "\n",
        "# Probability of making a basket on each attempt\n",
        "p_success = 0.3\n",
        "\n",
        "# Number of successes required (k)\n",
        "k_successes = 3  # We want the third basket\n",
        "\n",
        "# Number of attempts (trials) until the third success\n",
        "n_attempts_until_3rd_basket = 10\n",
        "\n",
        "# Calculate the number of failures before the third success\n",
        "failures_before_3rd_basket = n_attempts_until_3rd_basket - k_successes\n",
        "\n",
        "# Calculate the probability of making the third basket on the 10th attempt\n",
        "p_third_basket_on_10th_attempt = nbinom.pmf(failures_before_3rd_basket, k_successes, p_success)\n",
        "\n",
        "print(\"Probability of making the third basket on the 10th attempt:\", p_third_basket_on_10th_attempt)"
      ],
      "metadata": {
        "colab": {
          "base_uri": "https://localhost:8080/"
        },
        "id": "_lbps9uiYAWp",
        "outputId": "085c71fb-99cc-41cf-944d-c5ed7fa0a961"
      },
      "execution_count": 5,
      "outputs": [
        {
          "output_type": "stream",
          "name": "stdout",
          "text": [
            "Probability of making the third basket on the 10th attempt: 0.08004837959999984\n"
          ]
        }
      ]
    },
    {
      "cell_type": "code",
      "source": [
        "#Construct a 95% confidence interval for the proportion of the population that prefers brand A given 60 out of 200 people surveyed prefer it.\n",
        "import scipy.stats as stats\n",
        "import numpy as np\n",
        "\n",
        "# Sample proportion\n",
        "p_hat = 60 / 200\n",
        "\n",
        "# Sample size\n",
        "n = 200\n",
        "\n",
        "# Confidence level\n",
        "confidence_level = 0.95\n",
        "\n",
        "# Calculate the z-score corresponding to the confidence level\n",
        "z_score = stats.norm.ppf(1 - (1 - confidence_level) / 2)\n",
        "\n",
        "# Calculate the margin of error\n",
        "margin_of_error = z_score * np.sqrt((p_hat * (1 - p_hat)) / n)\n",
        "\n",
        "# Calculate the lower and upper bounds of the confidence interval\n",
        "lower_bound = p_hat - margin_of_error\n",
        "upper_bound = p_hat + margin_of_error\n",
        "\n",
        "print(\"95% Confidence Interval for the Proportion of Population Preferring Brand A:\")\n",
        "print(\"Lower Bound:\", lower_bound)\n",
        "print(\"Upper Bound:\", upper_bound)"
      ],
      "metadata": {
        "colab": {
          "base_uri": "https://localhost:8080/"
        },
        "id": "DAouX5c4YFYW",
        "outputId": "84f7ad77-e1b8-4b75-cd7e-86779611e3a1"
      },
      "execution_count": 4,
      "outputs": [
        {
          "output_type": "stream",
          "name": "stdout",
          "text": [
            "95% Confidence Interval for the Proportion of Population Preferring Brand A:\n",
            "Lower Bound: 0.2364899081898882\n",
            "Upper Bound: 0.3635100918101118\n"
          ]
        }
      ]
    },
    {
      "cell_type": "code",
      "source": [
        "# A marketing study finds that 230 out of 600 sampled smartphone users prefer a particular brand. Is there evidence at the 1% significance level to suggest that less than 40% of all smartphone users prefer this brand?\n",
        "from scipy import stats\n",
        "import math\n",
        "\n",
        "# Sample data\n",
        "n = 600  # sample size\n",
        "x = 230  # number of users who prefer the brand\n",
        "\n",
        "# Hypothesized population proportion under the null hypothesis\n",
        "p_null = 0.40\n",
        "\n",
        "# Sample proportion\n",
        "p_hat = x / n\n",
        "\n",
        "# Calculate the standard error\n",
        "standard_error = math.sqrt((p_null * (1 - p_null)) / n)\n",
        "\n",
        "# Calculate the z-test statistic\n",
        "z = (p_hat - p_null) / standard_error\n",
        "\n",
        "# Critical value at the 1% significance level (one-tailed test)\n",
        "alpha = 0.01\n",
        "critical_value = stats.norm.ppf(alpha)\n",
        "\n",
        "# Print the results\n",
        "print(\"Sample Proportion:\", p_hat)\n",
        "print(\"Z-test Statistic:\", z)\n",
        "print(\"Critical Value:\", critical_value)\n",
        "\n",
        "# Perform the hypothesis test\n",
        "if z <= critical_value:\n",
        "    print(\"Fail to reject the null hypothesis.\")\n",
        "else:\n",
        "    print(\"Reject the null hypothesis.\")\n"
      ],
      "metadata": {
        "colab": {
          "base_uri": "https://localhost:8080/"
        },
        "id": "GAIbTbYPYHTg",
        "outputId": "a2f787a7-e032-451c-fc30-9379bab74e7b"
      },
      "execution_count": 7,
      "outputs": [
        {
          "output_type": "stream",
          "name": "stdout",
          "text": [
            "Sample Proportion: 0.38333333333333336\n",
            "Z-test Statistic: -0.8333333333333331\n",
            "Critical Value: -2.3263478740408408\n",
            "Reject the null hypothesis.\n"
          ]
        }
      ]
    },
    {
      "cell_type": "code",
      "source": [],
      "metadata": {
        "id": "un_tF2eNa1gY"
      },
      "execution_count": null,
      "outputs": []
    }
  ]
}