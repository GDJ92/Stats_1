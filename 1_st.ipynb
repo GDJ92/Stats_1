{
  "nbformat": 4,
  "nbformat_minor": 0,
  "metadata": {
    "colab": {
      "provenance": []
    },
    "kernelspec": {
      "name": "python3",
      "display_name": "Python 3"
    },
    "language_info": {
      "name": "python"
    }
  },
  "cells": [
    {
      "cell_type": "code",
      "execution_count": 7,
      "metadata": {
        "colab": {
          "base_uri": "https://localhost:8080/"
        },
        "id": "wceoEO4bB63d",
        "outputId": "3fda8613-beab-4daa-b554-dfa5bb201811"
      },
      "outputs": [
        {
          "output_type": "execute_result",
          "data": {
            "text/plain": [
              "0.1335"
            ]
          },
          "metadata": {},
          "execution_count": 7
        }
      ],
      "source": [
        "from scipy.stats import norm\n",
        "#P(z>1.1)\n",
        "z_value_a = 1.11\n",
        "probability_a= 1 - norm.cdf(z_value_a)\n",
        "round(probability_a,4)"
      ]
    },
    {
      "cell_type": "code",
      "source": [
        "m= 90\n",
        "x= 100\n",
        "std= 2\n",
        "z_one=(x-m)/std\n",
        "z_one"
      ],
      "metadata": {
        "colab": {
          "base_uri": "https://localhost:8080/"
        },
        "id": "OtwVIMJgKryU",
        "outputId": "2333fde1-b4d3-40bb-ed49-977c1763d72b"
      },
      "execution_count": 8,
      "outputs": [
        {
          "output_type": "execute_result",
          "data": {
            "text/plain": [
              "5.0"
            ]
          },
          "metadata": {},
          "execution_count": 8
        }
      ]
    },
    {
      "cell_type": "code",
      "source": [
        "m= 95\n",
        "std= 2\n",
        "#x=\n",
        "z= -1.0 #0.1587\n",
        "#z=(x-m)/std\n",
        "x = (z*std)+m\n",
        "x"
      ],
      "metadata": {
        "colab": {
          "base_uri": "https://localhost:8080/"
        },
        "id": "rE3pRPmiLaSO",
        "outputId": "901fba32-f1fa-42d4-c284-1f37a00916c4"
      },
      "execution_count": 14,
      "outputs": [
        {
          "output_type": "execute_result",
          "data": {
            "text/plain": [
              "93.0"
            ]
          },
          "metadata": {},
          "execution_count": 14
        }
      ]
    },
    {
      "cell_type": "code",
      "source": [
        "std= (1560-1440)/6\n",
        "std"
      ],
      "metadata": {
        "colab": {
          "base_uri": "https://localhost:8080/"
        },
        "id": "0qEvsVSs41Bg",
        "outputId": "3a25e610-732c-40ac-f17b-527438727387"
      },
      "execution_count": 16,
      "outputs": [
        {
          "output_type": "execute_result",
          "data": {
            "text/plain": [
              "20.0"
            ]
          },
          "metadata": {},
          "execution_count": 16
        }
      ]
    },
    {
      "cell_type": "code",
      "source": [
        "# engine repair = 8%, random samle= 5 cars, engine repair= 2\n",
        "from scipy.stats import binom\n",
        "repair= binom.pmf(k=2, n=5 , p=0.08)\n",
        "repair"
      ],
      "metadata": {
        "colab": {
          "base_uri": "https://localhost:8080/"
        },
        "id": "wcDV_oC5zzmm",
        "outputId": "d53603e1-fc2a-4580-8da9-4dc594193b5c"
      },
      "execution_count": 6,
      "outputs": [
        {
          "output_type": "execute_result",
          "data": {
            "text/plain": [
              "0.04983603200000002"
            ]
          },
          "metadata": {},
          "execution_count": 6
        }
      ]
    },
    {
      "cell_type": "code",
      "source": [
        "mu= 500\n",
        "std= 100\n",
        "z_95 = norm.ppf(0.95, loc=mu, scale=std)\n",
        "z_95"
      ],
      "metadata": {
        "colab": {
          "base_uri": "https://localhost:8080/"
        },
        "id": "kUIcNx7RNXcp",
        "outputId": "470f574a-8a6d-4208-e623-81f34597f2e8"
      },
      "execution_count": 21,
      "outputs": [
        {
          "output_type": "execute_result",
          "data": {
            "text/plain": [
              "664.4853626951472"
            ]
          },
          "metadata": {},
          "execution_count": 21
        }
      ]
    },
    {
      "cell_type": "code",
      "source": [],
      "metadata": {
        "id": "J3bsdvZFNXiV"
      },
      "execution_count": null,
      "outputs": []
    }
  ]
}