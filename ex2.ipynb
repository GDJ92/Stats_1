{
  "nbformat": 4,
  "nbformat_minor": 0,
  "metadata": {
    "colab": {
      "provenance": []
    },
    "kernelspec": {
      "name": "python3",
      "display_name": "Python 3"
    },
    "language_info": {
      "name": "python"
    }
  },
  "cells": [
    {
      "cell_type": "code",
      "execution_count": null,
      "metadata": {
        "colab": {
          "base_uri": "https://localhost:8080/"
        },
        "id": "S2NgMCi3ESDN",
        "outputId": "6cef7980-8fd9-406c-e64c-99527d2c0bd8"
      },
      "outputs": [
        {
          "output_type": "stream",
          "name": "stdout",
          "text": [
            "Probability of success on the 5th attempt: 0.009175040000000004\n"
          ]
        }
      ],
      "source": [
        "# What is the probability that a person succeeds on their 5th attempt if the probability of success on any given attempt is 0.2, assuming each attempt is independent?\n",
        "from scipy.stats import nbinom\n",
        "\n",
        "# Probability of success on each attempt\n",
        "p_success = 0.2\n",
        "\n",
        "# Number of successes required (k)\n",
        "k_successes = 5\n",
        "\n",
        "# Calculate the number of failures before the 5th success\n",
        "failures_before_5th_success = k_successes - 1  # Because successes = failures + 1\n",
        "\n",
        "# Calculate the probability of succeeding on the 5th attempt\n",
        "p_5th_attempt_success = nbinom.pmf(failures_before_5th_success, k_successes, p_success)\n",
        "\n",
        "print(\"Probability of success on the 5th attempt:\", p_5th_attempt_success)\n"
      ]
    },
    {
      "cell_type": "code",
      "source": [
        "# A call center receives an average of 12 calls per hour. What is the probability that they will receive exactly 15 calls in the next hour"
      ],
      "metadata": {
        "id": "EeEGJDYEEWU5"
      },
      "execution_count": null,
      "outputs": []
    },
    {
      "cell_type": "code",
      "source": [
        "from scipy.stats import poisson\n",
        "\n",
        "# Average rate of calls per hour\n",
        "average_calls_per_hour = 12\n",
        "\n",
        "# Number of calls we want to calculate the probability for\n",
        "num_calls = 15\n",
        "\n",
        "# Calculate the probability of receiving exactly 15 calls in the next hour using the Poisson distribution\n",
        "p_15_calls = poisson.pmf(num_calls, average_calls_per_hour)\n",
        "\n",
        "print(\"Probability of receiving exactly 15 calls in the next hour:\", p_15_calls)"
      ],
      "metadata": {
        "colab": {
          "base_uri": "https://localhost:8080/"
        },
        "id": "c_q_nqrnLek3",
        "outputId": "5a72bbf0-86e0-42ad-d07d-8f4184255f0a"
      },
      "execution_count": null,
      "outputs": [
        {
          "output_type": "stream",
          "name": "stdout",
          "text": [
            "Probability of receiving exactly 15 calls in the next hour: 0.07239112014663847\n"
          ]
        }
      ]
    },
    {
      "cell_type": "code",
      "source": [
        "# If a basketball player makes a basket with a probability of 0.3, what is the probability that the player will make their third basket on their 10th attempt?\n"
      ],
      "metadata": {
        "id": "l9e59cWALfRx"
      },
      "execution_count": null,
      "outputs": []
    },
    {
      "cell_type": "code",
      "source": [
        "from scipy.stats import nbinom\n",
        "\n",
        "# Probability of making a basket on each attempt\n",
        "p_success = 0.3\n",
        "\n",
        "# Number of successes required (k)\n",
        "k_successes = 3  # We want the third basket\n",
        "\n",
        "# Number of attempts (trials) until the third success\n",
        "n_attempts_until_3rd_basket = 10\n",
        "\n",
        "# Calculate the number of failures before the third success\n",
        "failures_before_3rd_basket = n_attempts_until_3rd_basket - k_successes\n",
        "\n",
        "# Calculate the probability of making the third basket on the 10th attempt\n",
        "p_third_basket_on_10th_attempt = nbinom.pmf(failures_before_3rd_basket, k_successes, p_success)\n",
        "\n",
        "print(\"Probability of making the third basket on the 10th attempt:\", p_third_basket_on_10th_attempt)\n"
      ],
      "metadata": {
        "colab": {
          "base_uri": "https://localhost:8080/"
        },
        "id": "3hOwCaJUMwl7",
        "outputId": "5979b778-5ac7-4861-bd75-5d830db681eb"
      },
      "execution_count": null,
      "outputs": [
        {
          "output_type": "stream",
          "name": "stdout",
          "text": [
            "Probability of making the third basket on the 10th attempt: 0.08004837959999984\n"
          ]
        }
      ]
    },
    {
      "cell_type": "code",
      "source": [
        "#Construct a 95% confidence interval for the proportion of the population that prefers brand A given 60 out of 200 people surveyed prefer it.\n"
      ],
      "metadata": {
        "id": "CGFV2EBBMzKJ"
      },
      "execution_count": null,
      "outputs": []
    },
    {
      "cell_type": "code",
      "source": [
        "import scipy.stats as stats\n",
        "import numpy as np\n",
        "\n",
        "# Sample proportion\n",
        "p_hat = 60 / 200\n",
        "\n",
        "# Sample size\n",
        "n = 200\n",
        "\n",
        "# Confidence level\n",
        "confidence_level = 0.95\n",
        "\n",
        "# Calculate the z-score corresponding to the confidence level\n",
        "z_score = stats.norm.ppf(1 - (1 - confidence_level) / 2)\n",
        "\n",
        "# Calculate the margin of error\n",
        "margin_of_error = z_score * np.sqrt((p_hat * (1 - p_hat)) / n)\n",
        "\n",
        "# Calculate the lower and upper bounds of the confidence interval\n",
        "lower_bound = p_hat - margin_of_error\n",
        "upper_bound = p_hat + margin_of_error\n",
        "\n",
        "print(\"95% Confidence Interval for the Proportion of Population Preferring Brand A:\")\n",
        "print(\"Lower Bound:\", lower_bound)\n",
        "print(\"Upper Bound:\", upper_bound)\n"
      ],
      "metadata": {
        "colab": {
          "base_uri": "https://localhost:8080/"
        },
        "id": "IshNFq-4NVkE",
        "outputId": "e1267884-941b-40fc-8f4c-d5a51232939b"
      },
      "execution_count": null,
      "outputs": [
        {
          "output_type": "stream",
          "name": "stdout",
          "text": [
            "95% Confidence Interval for the Proportion of Population Preferring Brand A:\n",
            "Lower Bound: 0.2364899081898882\n",
            "Upper Bound: 0.3635100918101118\n"
          ]
        }
      ]
    },
    {
      "cell_type": "code",
      "source": [
        "# A marketing study finds that 230 out of 600 sampled smartphone users prefer a particular brand. Is there evidence at the 1% significance level to suggest that less than 40% of all smartphone users prefer this brand?\n",
        "from scipy import stats\n",
        "import math\n",
        "\n",
        "# Sample data\n",
        "n = 600  # sample size\n",
        "x = 230  # number of users who prefer the brand\n",
        "\n",
        "# Hypothesized population proportion under the null hypothesis\n",
        "p_null = 0.40\n",
        "\n",
        "# Sample proportion\n",
        "p_hat = x / n\n",
        "\n",
        "# Calculate the standard error\n",
        "standard_error = math.sqrt((p_null * (1 - p_null)) / n)\n",
        "\n",
        "# Calculate the z-test statistic\n",
        "z = (p_hat - p_null) / standard_error\n",
        "\n",
        "# Critical value at the 1% significance level (one-tailed test)\n",
        "alpha = 0.01\n",
        "critical_value = stats.norm.ppf(alpha)\n",
        "\n",
        "# Print the results\n",
        "print(\"Sample Proportion:\", p_hat)\n",
        "print(\"Z-test Statistic:\", z)\n",
        "print(\"Critical Value:\", critical_value)\n",
        "\n",
        "# Perform the hypothesis test\n",
        "if z <= critical_value:\n",
        "    print(\"Fail to reject the null hypothesis.\")\n",
        "else:\n",
        "    print(\"Reject the null hypothesis.\")\n"
      ],
      "metadata": {
        "colab": {
          "base_uri": "https://localhost:8080/"
        },
        "id": "sGE6gAX8g6C6",
        "outputId": "2d406764-814c-47ea-b29b-e462ea2b3cef"
      },
      "execution_count": 9,
      "outputs": [
        {
          "output_type": "stream",
          "name": "stdout",
          "text": [
            "Sample Proportion: 0.38333333333333336\n",
            "Z-test Statistic: -0.8333333333333331\n",
            "Critical Value: -2.3263478740408408\n",
            "Reject the null hypothesis.\n"
          ]
        }
      ]
    },
    {
      "cell_type": "code",
      "source": [
        "# Two different landing pages were tested for a website to see which one has a higher conversion rate. Page A had 42 conversions out of 500 visitors, and Page B had 58 conversions out of 550 visitors.\n",
        "# Test at the 5% significance level whether there is a significant difference in conversion rates between the two pages.\n",
        "from scipy.stats import norm\n",
        "# Calculate the sample proportions\n",
        "p1 = 42 / 500\n",
        "p2 = 58 / 550\n",
        "\n",
        "# Calculate the pooled proportion\n",
        "p_pooled = (42 + 58) / (500 + 550)\n",
        "\n",
        "# Calculate the z-statistic\n",
        "z = (p1 - p2) / np.sqrt(p_pooled * (1 - p_pooled) * ((1 / 500) + (1 / 550)))\n",
        "\n",
        "# Calculate the p-value\n",
        "p_value = 2 * (1 - norm.cdf(abs(z)))\n",
        "print(p_value)\n",
        "\n",
        "# Set the significance level\n",
        "alpha = 0.05\n",
        "\n",
        "# Make a decision\n",
        "if p_value < alpha:\n",
        "    print(\"Reject the null hypothesis.\")\n",
        "else:\n",
        "    print(\"Fail to reject the null hypothesis.\")\n",
        "\n",
        "# Conclusion\n",
        "if p_value < alpha:\n",
        "    print(\"There is sufficient evidence to conclude that there is a significant difference in conversion rates between the two pages.\")\n",
        "else:\n",
        "    print(\"There is not sufficient evidence to conclude that there is a significant difference in conversion rates between the two pages.\")"
      ],
      "metadata": {
        "colab": {
          "base_uri": "https://localhost:8080/"
        },
        "id": "lHQV5XaKgFni",
        "outputId": "50d7e8d2-af06-4a6d-835f-f1a5c0da5ed1"
      },
      "execution_count": 10,
      "outputs": [
        {
          "output_type": "stream",
          "name": "stdout",
          "text": [
            "0.23688065186045248\n",
            "Fail to reject the null hypothesis.\n",
            "There is not sufficient evidence to conclude that there is a significant difference in conversion rates between the two pages.\n"
          ]
        }
      ]
    },
    {
      "cell_type": "markdown",
      "source": [
        "## Q1"
      ],
      "metadata": {
        "id": "gc6InhnggHjg"
      }
    },
    {
      "cell_type": "code",
      "source": [
        "# An eccmmerce research company claims that 65% or more graduate students have bought merchandise online. A consumer group is suspicious of the claim and thinks that the proportion is lower than 65%.\n",
        "# a random sample o85 graduate students shows that only 22 students have even done so. Is there enough evidence to show that the true proportion is lower than 65%.\n",
        "# conduct the test at 5%  type I error and use the p-value and rejection region approaches."
      ],
      "metadata": {
        "id": "Zt9ckNuCgLQU"
      },
      "execution_count": null,
      "outputs": []
    },
    {
      "cell_type": "code",
      "source": [
        "import numpy as np\n",
        "from scipy import stats\n",
        "\n",
        "# Sample proportion\n",
        "p_hat = 22 / 85\n",
        "\n",
        "# Claimed proportion\n",
        "p_claimed = 0.65\n",
        "\n",
        "# Sample size\n",
        "n = 85\n",
        "\n",
        "# Calculate the test statistic (z-score)\n",
        "z = (p_hat - p_claimed) / np.sqrt((p_claimed * (1 - p_claimed)) / n)\n",
        "\n",
        "# Calculate the p-value\n",
        "p_value = stats.norm.cdf(z)\n",
        "\n",
        "# Significance level\n",
        "alpha = 0.05\n",
        "\n",
        "print(\"Test statistic (z-score):\", z)\n",
        "print(\"P-value:\", p_value)\n",
        "\n",
        "# Decision based on the p-value approach\n",
        "if p_value < alpha:\n",
        "    print(\"Reject the null hypothesis. There is enough evidence to conclude that the true proportion is lower than 65%.\")\n",
        "else:\n",
        "    print(\"Fail to reject the null hypothesis. There is not enough evidence to conclude that the true proportion is lower than 65%.\")\n",
        "\n",
        "# Decision based on the rejection region approach\n",
        "if z < stats.norm.ppf(alpha):\n",
        "    print(f'z= {z}  and  {stats.norm.ppf(alpha)} Reject the null hypothesis. There is enough evidence to conclude that the true proportion is lower than 65%.')\n",
        "else:\n",
        "    print(\"Fail to reject the null hypothesis. There is not enough evidence to conclude that the true proportion is lower than 65%.\")"
      ],
      "metadata": {
        "colab": {
          "base_uri": "https://localhost:8080/"
        },
        "id": "kfKebE9SgWiN",
        "outputId": "59b764c8-f2bf-40a5-b640-bd94ebf044b4"
      },
      "execution_count": 1,
      "outputs": [
        {
          "output_type": "stream",
          "name": "stdout",
          "text": [
            "Test statistic (z-score): -7.561213242685162\n",
            "P-value: 1.9966347722095972e-14\n",
            "Reject the null hypothesis. There is enough evidence to conclude that the true proportion is lower than 65%.\n",
            "z= -7.561213242685162  and  -1.6448536269514729 Reject the null hypothesis. There is enough evidence to conclude that the true proportion is lower than 65%.\n"
          ]
        }
      ]
    },
    {
      "cell_type": "markdown",
      "source": [
        "## Q2"
      ],
      "metadata": {
        "id": "wT4dVAbdgY5B"
      }
    },
    {
      "cell_type": "code",
      "source": [
        "# A biologist is studying a particular species of flower known for its rare blooming cycle. she finds that there is a 10% chance of observing a bloom on any given day during the peak season.\n",
        "# What is the probability that she observes the first bloom on the fifth day?"
      ],
      "metadata": {
        "id": "VW-zr-dUgW6a"
      },
      "execution_count": 2,
      "outputs": []
    },
    {
      "cell_type": "code",
      "source": [
        "from scipy.stats import nbinom\n",
        "\n",
        "# Probability of observing a bloom on any given day\n",
        "p_bloom = 0.1\n",
        "\n",
        "# Number of successes required (k)\n",
        "k_successes = 1  # We want the first bloom\n",
        "\n",
        "# Number of trials until the first success (bloom)\n",
        "n_trials_until_first_bloom = 5\n",
        "\n",
        "# Calculate the number of failures before the first success\n",
        "failures_before_first_bloom = n_trials_until_first_bloom - k_successes\n",
        "\n",
        "# Calculate the probability of observing the first bloom on the fifth day\n",
        "p_first_bloom_on_fifth_day = nbinom.pmf(failures_before_first_bloom, k_successes, p_bloom)\n",
        "\n",
        "print(\"Probability of observing the first bloom on the fifth day:\", p_first_bloom_on_fifth_day)"
      ],
      "metadata": {
        "colab": {
          "base_uri": "https://localhost:8080/"
        },
        "id": "RKAbMRQtgZxq",
        "outputId": "b6466b28-9a89-4f57-e386-2a281dd1a51f"
      },
      "execution_count": 3,
      "outputs": [
        {
          "output_type": "stream",
          "name": "stdout",
          "text": [
            "Probability of observing the first bloom on the fifth day: 0.06560999999999999\n"
          ]
        }
      ]
    },
    {
      "cell_type": "code",
      "source": [
        "from scipy.stats import geom\n",
        "p_geom = 0.1  #prob success\n",
        "k_geom = 5 #trials\n",
        "geometric_prob = geom.pmf(k_geom, p_geom)\n",
        "print(geometric_prob)"
      ],
      "metadata": {
        "colab": {
          "base_uri": "https://localhost:8080/"
        },
        "id": "8RkOCqjtgd5k",
        "outputId": "9d691f42-30bb-4de9-bd70-d1c6301d49ac"
      },
      "execution_count": 4,
      "outputs": [
        {
          "output_type": "stream",
          "name": "stdout",
          "text": [
            "0.06561\n"
          ]
        }
      ]
    },
    {
      "cell_type": "markdown",
      "source": [
        "# Q4"
      ],
      "metadata": {
        "id": "oX_3PRjRggYq"
      }
    },
    {
      "cell_type": "code",
      "source": [
        "# an oil company conducts a geological study that indicates that an explanatory oil well should havea 20% chance of striking oil. what is the probability that the third strike comes on the seventh well drilled.\n"
      ],
      "metadata": {
        "id": "7rcOUYdngfs8"
      },
      "execution_count": 5,
      "outputs": []
    },
    {
      "cell_type": "code",
      "source": [
        "from scipy.stats import nbinom\n",
        "\n",
        "# Probability of striking oil on each well\n",
        "p_success = 0.2\n",
        "\n",
        "# Number of successes required (k)\n",
        "k_successes = 3  # We want the third strike\n",
        "\n",
        "# Number of trials (wells drilled) until the third success\n",
        "n_trials_until_3rd_strike = 7\n",
        "\n",
        "# Calculate the number of failures before the third success\n",
        "failures_before_3rd_strike = n_trials_until_3rd_strike - k_successes\n",
        "\n",
        "# Calculate the probability of the third strike occurring on the seventh well drilled\n",
        "p_third_strike_on_seventh_well = nbinom.pmf(failures_before_3rd_strike, k_successes, p_success)\n",
        "\n",
        "print(\"Probability of the third strike occurring on the seventh well drilled:\", p_third_strike_on_seventh_well)"
      ],
      "metadata": {
        "colab": {
          "base_uri": "https://localhost:8080/"
        },
        "id": "jqM-93OQglwL",
        "outputId": "f7d2ba3e-72aa-4d98-c353-6ff5781eec40"
      },
      "execution_count": 6,
      "outputs": [
        {
          "output_type": "stream",
          "name": "stdout",
          "text": [
            "Probability of the third strike occurring on the seventh well drilled: 0.04915200000000004\n"
          ]
        }
      ]
    },
    {
      "cell_type": "markdown",
      "source": [
        "# Q6"
      ],
      "metadata": {
        "id": "7zFesq8KgoyO"
      }
    },
    {
      "cell_type": "code",
      "source": [
        "#in 1980, of 700 men 20-34 years old, 150 were found to be overweight. Whereas, in 1990, of 750 men, 20-34 years old, 170 were found to be overweight.\n",
        "# at the 5% significance level, do the data provide sufficient evidence to conclude that, for men 20-34 years old,a a higher porcentage were overweight in 1990 than 10 years earlier. Conduct the hypothesis test"
      ],
      "metadata": {
        "id": "PTr1wGvDgnTa"
      },
      "execution_count": 7,
      "outputs": []
    },
    {
      "cell_type": "code",
      "source": [
        "import numpy as np\n",
        "from scipy import stats\n",
        "\n",
        "# Define the sample sizes and number of overweight men for 1980 and 1990\n",
        "n1 = 700\n",
        "x1 = 150\n",
        "\n",
        "n2 = 750\n",
        "x2 = 170\n",
        "\n",
        "# Calculate the sample proportions\n",
        "p1 = x1 / n1\n",
        "p2 = x2 / n2\n",
        "\n",
        "# Calculate the combined sample proportion\n",
        "p_combined = (x1 + x2) / (n1 + n2)\n",
        "\n",
        "# Calculate the standard error\n",
        "SE = np.sqrt(p_combined * (1 - p_combined) * (1/n1 + 1/n2))\n",
        "\n",
        "# Calculate the test statistic\n",
        "z = (p1 - p2) / SE\n",
        "\n",
        "# Calculate the p-value\n",
        "p_value = 2 * (1 - stats.norm.cdf(abs(z)))\n",
        "\n",
        "# Set the significance level\n",
        "alpha = 0.05\n",
        "\n",
        "print(\"Test statistic:\", z)\n",
        "print(\"P-value:\", p_value)\n",
        "\n",
        "# Check if the p-value is less than the significance level\n",
        "if p_value < alpha:\n",
        "    print(\"At the 5% significance level, there is sufficient evidence to reject the null hypothesis.\")\n",
        "else:\n",
        "    print(\"At the 5% significance level, there is not sufficient evidence to reject the null hypothesis.\")"
      ],
      "metadata": {
        "colab": {
          "base_uri": "https://localhost:8080/"
        },
        "id": "Ii2Op9WHgtzr",
        "outputId": "6b329487-000e-4dc3-f03e-ad856286254a"
      },
      "execution_count": 8,
      "outputs": [
        {
          "output_type": "stream",
          "name": "stdout",
          "text": [
            "Test statistic: -0.5680721458724587\n",
            "P-value: 0.569985980385308\n",
            "At the 5% significance level, there is not sufficient evidence to reject the null hypothesis.\n"
          ]
        }
      ]
    },
    {
      "cell_type": "markdown",
      "source": [
        "A point estimate is a single value (or point) that serves as an estimate or guess for a population parameter based on sample data. It is used to approximate or infer the true value of a population parameter when it is impractical or impossible to measure the entire population.\n",
        "\n",
        "For example, if you conduct a survey of 500 people to estimate the average age of all adults in a city, the sample mean age of the 500 surveyed individuals would be a point estimate for the population mean age.\n",
        "\n",
        "On the other hand, the parameter of interest is the specific population characteristic or value that we want to estimate or make inferences about based on the sample data. It's the true, fixed value that we seek to understand or describe about the entire population.\n",
        "\n",
        "Continuing with the previous example, the parameter of interest would be the actual average age of all adults in the city, not just the estimate based on the sample. It's what we aim to learn about through our study or survey.\n",
        "\n",
        "In summary, the point estimate is the estimated value derived from the sample data, while the parameter of interest is the true, unknown value about the population that we're trying to estimate or understand.\n",
        "\n"
      ],
      "metadata": {
        "id": "srBwmjy1hEfz"
      }
    },
    {
      "cell_type": "markdown",
      "source": [
        "Type I error: Also known as a \"\"false positive,\"\" this error occurs when we reject a null hypothesis that is actually true.\n",
        "Type II error: Also known as a \"\"false negative,\"\" this error occurs when we fail to reject a null hypothesis that is actually false. \""
      ],
      "metadata": {
        "id": "UgUoZtMKhLDS"
      }
    },
    {
      "cell_type": "code",
      "source": [],
      "metadata": {
        "id": "6prQqv6EhMvX"
      },
      "execution_count": null,
      "outputs": []
    }
  ]
}